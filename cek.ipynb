{
 "cells": [
  {
   "cell_type": "code",
   "execution_count": 2,
   "metadata": {},
   "outputs": [
    {
     "name": "stdout",
     "output_type": "stream",
     "text": [
      "streamlit:  1.25.0\n",
      "numpy:  1.25.2\n",
      "pandas:  1.4.2\n",
      "plotly:  5.15.0\n",
      "matplotlib:  3.7.1\n",
      "WordCloud:  1.9.2\n",
      "sklearn:  1.3.0\n",
      "Image:  9.3.0\n"
     ]
    }
   ],
   "source": [
    "import streamlit as st\n",
    "import numpy as np\n",
    "import pandas as pd\n",
    "\n",
    "# for visualization\n",
    "import plotly\n",
    "import plotly.express as px\n",
    "import plotly.io as pio\n",
    "import matplotlib as mpl\n",
    "import matplotlib.pyplot as plt\n",
    "import wordcloud\n",
    "from wordcloud import WordCloud, STOPWORDS, ImageColorGenerator\n",
    "from PIL import Image\n",
    "\n",
    "import re\n",
    "import datetime as dt\n",
    "from sklearn.feature_extraction.text import CountVectorizer\n",
    "import plotly.express as px\n",
    "import plotly.io as pio\n",
    "import matplotlib as mpl\n",
    "import matplotlib.pyplot as plt\n",
    "import sklearn\n",
    "# from wordcloud import WordCloud\n",
    "from PIL import Image\n",
    "print(\"streamlit: \", st.__version__)\n",
    "print(\"numpy: \", np.__version__)\n",
    "print(\"pandas: \", pd.__version__)\n",
    "print(\"plotly: \", plotly.__version__)\n",
    "print(\"matplotlib: \", mpl.__version__)\n",
    "print(\"WordCloud: \", wordcloud.__version__)\n",
    "# print(\"datetime: \", dt.__version__)\n",
    "print(\"sklearn: \", sklearn.__version__)\n",
    "print(\"Image: \", Image.__version__)"
   ]
  },
  {
   "cell_type": "code",
   "execution_count": null,
   "metadata": {},
   "outputs": [],
   "source": []
  }
 ],
 "metadata": {
  "kernelspec": {
   "display_name": "Python 3",
   "language": "python",
   "name": "python3"
  },
  "language_info": {
   "codemirror_mode": {
    "name": "ipython",
    "version": 3
   },
   "file_extension": ".py",
   "mimetype": "text/x-python",
   "name": "python",
   "nbconvert_exporter": "python",
   "pygments_lexer": "ipython3",
   "version": "3.10.11"
  },
  "orig_nbformat": 4
 },
 "nbformat": 4,
 "nbformat_minor": 2
}
